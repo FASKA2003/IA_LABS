{
 "cells": [
  {
   "cell_type": "markdown",
   "metadata": {},
   "source": [
    "# Mean, Median, Mode, and introducing NumPy"
   ]
  },
  {
   "cell_type": "markdown",
   "metadata": {},
   "source": [
    "## Mean vs. Median"
   ]
  },
  {
   "cell_type": "markdown",
   "metadata": {},
   "source": [
    "Let's create some fake income data, centered around 27,000 with a normal distribution and standard deviation of 15,000, with 10,000 data points. \n",
    "\n",
    "Then, compute the mean (average) - it should be close to 27,000:"
   ]
  },
  {
   "cell_type": "code",
   "execution_count": 1,
   "metadata": {},
   "outputs": [
    {
     "data": {
      "text/plain": [
       "27033.152063204587"
      ]
     },
     "execution_count": 1,
     "metadata": {},
     "output_type": "execute_result"
    }
   ],
   "source": [
    "import numpy as np\n",
    "\n",
    "incomes = np.random.normal(27000, 15000, 10000)\n",
    "np.mean(incomes)"
   ]
  },
  {
   "cell_type": "markdown",
   "metadata": {},
   "source": [
    "We can segment the income data into 50 buckets, and plot it as a histogram:"
   ]
  },
  {
   "cell_type": "code",
   "execution_count": 2,
   "metadata": {},
   "outputs": [
    {
     "data": {
      "image/png": "[encoded data removed]",
      "text/plain": [
       "<Figure size 640x480 with 1 Axes>"
      ]
     },
     "metadata": {},
     "output_type": "display_data"
    }
   ],
   "source": [
    "%matplotlib inline\n",
    "import matplotlib.pyplot as plt\n",
    "plt.hist(incomes, 50)\n",
    "plt.show()"
   ]
  },
  {
   "cell_type": "markdown",
   "metadata": {},
   "source": [
    "Now compute the median - since we have a nice, even distribution it too should be close to 27,000:"
   ]
  },
  {
   "cell_type": "code",
   "execution_count": 3,
   "metadata": {},
   "outputs": [
    {
     "data": {
      "text/plain": [
       "27030.25034849169"
      ]
     },
     "execution_count": 3,
     "metadata": {},
     "output_type": "execute_result"
    }
   ],
   "source": [
    "np.median(incomes)"
   ]
  },
  {
   "cell_type": "markdown",
   "metadata": {},
   "source": [
    "Now we'll add the income of Jeff Bezos (a millionaire)!"
   ]
  },
  {
   "cell_type": "code",
   "execution_count": 5,
   "metadata": {},
   "outputs": [],
   "source": [
    "incomes = np.append(incomes, [1000000000])"
   ]
  },
  {
   "cell_type": "markdown",
   "metadata": {},
   "source": [
    "How does the income of a millionaire affect the results?"
   ]
  },
  {
   "cell_type": "code",
   "execution_count": 6,
   "metadata": {},
   "outputs": [
    {
     "data": {
      "text/plain": [
       "27031.77343281971"
      ]
     },
     "execution_count": 6,
     "metadata": {},
     "output_type": "execute_result"
    }
   ],
   "source": [
    "np.median(incomes)"
   ]
  },
  {
   "cell_type": "code",
   "execution_count": 7,
   "metadata": {},
   "outputs": [
    {
     "data": {
      "text/plain": [
       "226987.7545123021"
      ]
     },
     "execution_count": 7,
     "metadata": {},
     "output_type": "execute_result"
    }
   ],
   "source": [
    "np.mean(incomes)"
   ]
  },
  {
   "cell_type": "markdown",
   "metadata": {},
   "source": [
    "## Answer\n",
    "The median is not affected by the millionaire income added, but the mean is affected, since the incomes were centralized around 27000 and the mean is sentive to outliers its value get increased."
   ]
  },
  {
   "cell_type": "markdown",
   "metadata": {},
   "source": [
    "## Mode"
   ]
  },
  {
   "cell_type": "markdown",
   "metadata": {},
   "source": [
    "Next, let's generate some fake age data for 500 people:"
   ]
  },
  {
   "cell_type": "code",
   "execution_count": 8,
   "metadata": {},
   "outputs": [
    {
     "data": {
      "text/plain": [
       "array([71, 30, 42, 32, 46, 72, 46, 89, 24, 43, 79, 51, 43, 30, 42, 75, 76,\n",
       "       41, 83, 70, 49, 27, 88, 66, 78, 83, 25, 32, 45, 64, 88, 82, 45, 65,\n",
       "       59, 43, 75, 28, 36, 40, 55, 49, 71, 20, 27, 71, 22, 55, 48, 29, 26,\n",
       "       82, 49, 51, 78, 63, 20, 24, 50, 60, 30, 67, 42, 49, 51, 62, 70, 83,\n",
       "       51, 51, 56, 54, 75, 72, 20, 68, 25, 57, 41, 86, 47, 87, 74, 66, 75,\n",
       "       65, 80, 64, 67, 38, 67, 32, 34, 52, 72, 62, 26, 65, 25, 62, 51, 64,\n",
       "       83, 49, 80, 74, 82, 52, 37, 77, 60, 35, 83, 64, 23, 69, 50, 68, 50,\n",
       "       48, 44, 21, 77, 49, 25, 88, 87, 49, 80, 71, 56, 49, 21, 55, 47, 69,\n",
       "       64, 80, 81, 29, 47, 78, 75, 30, 72, 54, 73, 75, 81, 78, 85, 58, 39,\n",
       "       42, 82, 18, 73, 21, 88, 68, 62, 54, 21, 89, 51, 75, 55, 24, 38, 25,\n",
       "       56, 21, 75, 41, 53, 27, 51, 87, 45, 65, 32, 26, 27, 77, 28, 53, 24,\n",
       "       44, 40, 72, 42, 45, 41, 21, 71, 88, 60, 52, 58, 76, 60, 32, 85, 19,\n",
       "       27, 49, 70, 86, 43, 77, 30, 56, 83, 73, 71, 63, 25, 53, 77, 85, 82,\n",
       "       75, 24, 40, 18, 79, 69, 50, 44, 44, 33, 64, 46, 77, 63, 42, 76, 81,\n",
       "       73, 71, 19, 27, 36, 43, 31, 54, 38, 46, 42, 43, 44, 41, 27, 64, 30,\n",
       "       74, 44, 49, 33, 70, 51, 40, 18, 46, 80, 72, 50, 86, 66, 57, 87, 70,\n",
       "       59, 52, 31, 29, 83, 28, 47, 28, 34, 44, 66, 36, 59, 65, 40, 66, 21,\n",
       "       70, 69, 52, 65, 40, 53, 71, 64, 84, 61, 88, 83, 56, 27, 82, 65, 87,\n",
       "       54, 19, 28, 82, 57, 22, 27, 55, 64, 31, 34, 30, 81, 88, 41, 80, 68,\n",
       "       71, 74, 29, 89, 26, 24, 38, 64, 29, 36, 86, 55, 45, 29, 47, 65, 32,\n",
       "       69, 64, 84, 47, 44, 30, 19, 59, 79, 20, 42, 32, 36, 19, 64, 52, 68,\n",
       "       27, 34, 49, 51, 67, 45, 89, 29, 88, 60, 88, 33, 77, 21, 72, 27, 85,\n",
       "       85, 71, 61, 30, 83, 52, 55, 42, 54, 66, 22, 77, 85, 53, 38, 27, 26,\n",
       "       32, 81, 79, 46, 74, 44, 63, 26, 76, 72, 54, 49, 67, 88, 45, 81, 21,\n",
       "       58, 71, 52, 83, 86, 35, 86, 86, 63, 48, 59, 45, 46, 54, 45, 30, 33,\n",
       "       49, 37, 38, 62, 28, 31, 30, 80, 66, 18, 59, 49, 42, 48, 58, 62, 70,\n",
       "       74, 38, 52, 64, 39, 48, 44, 51, 87, 60, 42, 18, 74, 50, 22, 63, 43,\n",
       "       38, 47, 45, 54, 87, 33, 44, 37, 88, 53, 56, 73, 59, 83, 25, 44, 47,\n",
       "       50, 31, 74, 56, 36, 48, 50, 87, 79, 41, 64, 83, 52, 44, 84, 88, 81,\n",
       "       32, 62, 62, 46, 71, 31, 18])"
      ]
     },
     "execution_count": 8,
     "metadata": {},
     "output_type": "execute_result"
    }
   ],
   "source": [
    "# function randint(start, end, size)\n",
    "ages = np.random.randint(18, high=90, size=500)\n",
    "ages"
   ]
  },
  {
   "cell_type": "code",
   "execution_count": 9,
   "metadata": {},
   "outputs": [
    {
     "data": {
      "text/plain": [
       "ModeResult(mode=49, count=14)"
      ]
     },
     "execution_count": 9,
     "metadata": {},
     "output_type": "execute_result"
    }
   ],
   "source": [
    "from scipy import stats\n",
    "stats.mode(ages)"
   ]
  }
 ],
 "metadata": {
  "kernelspec": {
   "display_name": "Python 3",
   "language": "python",
   "name": "python3"
  },
  "language_info": {
   "codemirror_mode": {
    "name": "ipython",
    "version": 3
   },
   "file_extension": ".py",
   "mimetype": "text/x-python",
   "name": "python",
   "nbconvert_exporter": "python",
   "pygments_lexer": "ipython3",
   "version": "3.10.12"
  }
 },
 "nbformat": 4,
 "nbformat_minor": 1
}
