{
 "cells": [
  {
   "cell_type": "markdown",
   "metadata": {},
   "source": [
    "# K-Fold Cross Validation"
   ]
  },
  {
   "cell_type": "raw",
   "metadata": {},
   "source": [
    "We'll work with the Iris data set:"
   ]
  },
  {
   "cell_type": "code",
   "execution_count": 1,
   "metadata": {},
   "outputs": [],
   "source": [
    "import numpy as np\n",
    "from sklearn.model_selection import cross_val_score, train_test_split\n",
    "from sklearn import datasets\n",
    "from sklearn import svm\n",
    "\n",
    "iris = datasets.load_iris()\n"
   ]
  },
  {
   "cell_type": "markdown",
   "metadata": {},
   "source": [
    "A single train/test split is made easy with the train_test_split function in the cross_validation library:"
   ]
  },
  {
   "cell_type": "code",
   "execution_count": 4,
   "metadata": {},
   "outputs": [
    {
     "data": {
      "text/plain": [
       "0.9666666666666667"
      ]
     },
     "execution_count": 4,
     "metadata": {},
     "output_type": "execute_result"
    }
   ],
   "source": [
    "# Diviser l'ensemble de données en training_dataset et test_dataset\n",
    "# 60% pour le training, 40% pour le testing\n",
    "X_train, X_test, y_train, y_test = train_test_split(iris.data, iris.target, test_size=0.4, random_state=0)\n",
    "\n",
    "# Construire un modèle SVC(Support Vector Machine) avec un noyau linéaire\n",
    "clf = svm.SVC(kernel='linear').fit(X_train, y_train)\n",
    "\n",
    "# Mesurer la performance(accuracy) du système en utilisant les testing_dataset\n",
    "clf.score(X_test, y_test)  \n",
    "\n",
    "#L'accuracy est très proche de 100% "
   ]
  },
  {
   "cell_type": "markdown",
   "metadata": {},
   "source": [
    "K-Fold cross validation is just as easy; let's use a K of 5:"
   ]
  },
  {
   "cell_type": "code",
   "execution_count": 3,
   "metadata": {},
   "outputs": [
    {
     "name": "stdout",
     "output_type": "stream",
     "text": [
      "[0.96666667 1.         0.96666667 0.96666667 1.        ]\n",
      "0.9800000000000001\n"
     ]
    }
   ],
   "source": [
    "# We give cross_val_score a model, the entire data set and its \"real\" values, and the number of folds:\n",
    "#clf = classification model qu'on a construit\n",
    "#iris.data = l'ensemble des données d'entrainement\n",
    "#iris.target = évaluer la qualité des prédictions de modèle en comparant les valeurs prédites avec les valeurs réelles\n",
    "#cv = nombre de fold\n",
    "scores = cross_val_score(clf, iris.data, iris.target, cv=5)\n",
    "\n",
    "#La fonction cross_val_score renvoie un tableau contenant les scores de performance pour chaque pli, \n",
    "#ainsi que la moyenne de ces scores pour fournir une estimation de la performance moyenne du modèle\n",
    "\n",
    "#La fonction entraine le modèle sur 4 plis et l'évalue sur la partie qui reste\n",
    "#scores = tableau de taille 4\n",
    "\n",
    "print(scores)\n",
    "\n",
    "# And the mean accuracy of all 5 folds:\n",
    "print(scores.mean())\n",
    "\n",
    "#On a obtenu une moyenne de 98% cela signifie que le modèle a une performance moyenne élevée lors de la validation croisée"
   ]
  },
  {
   "cell_type": "markdown",
   "metadata": {},
   "source": [
    "Our model is even better than we thought! Can we do better? Let's try a different kernel (poly):"
   ]
  },
  {
   "cell_type": "code",
   "execution_count": 5,
   "metadata": {},
   "outputs": [
    {
     "name": "stdout",
     "output_type": "stream",
     "text": [
      "[0.96666667 1.         0.96666667 0.96666667 1.        ]\n",
      "0.9800000000000001\n"
     ]
    }
   ],
   "source": [
    "# Construire un modèle SVC(Support Vector Machine) avec un noyau polynomiale\n",
    "clf = svm.SVC(kernel='poly')\n",
    "scores = cross_val_score(clf, iris.data, iris.target, cv=5)\n",
    "print(scores)\n",
    "print(scores.mean())"
   ]
  },
  {
   "cell_type": "markdown",
   "metadata": {},
   "source": [
    "what conclusions can you draw from the results?"
   ]
  },
  {
   "cell_type": "code",
   "execution_count": 6,
   "metadata": {},
   "outputs": [
    {
     "data": {
      "text/plain": [
       "0.9"
      ]
     },
     "execution_count": 6,
     "metadata": {},
     "output_type": "execute_result"
    }
   ],
   "source": [
    "# Build an SVC model for predicting iris classifications using training data\n",
    "clf = svm.SVC(kernel='poly').fit(X_train, y_train)\n",
    "\n",
    "# Now measure its performance with the test data\n",
    "clf.score(X_test, y_test)   \n",
    "\n",
    "#On remarque que l'accuracy a diminué par rapport au modèle avec le noyau linéaire "
   ]
  },
  {
   "cell_type": "markdown",
   "metadata": {},
   "source": [
    "##### On a trouvé accuracy(noyau linéaire) > accuracy(noyau polynomial)\n",
    "##### On peut dire que le modèle linéaire est plus approprié pour ce problème de classification que le modèle polynomial\n",
    "##### On peut expliquer cela pour 3 raisons :\n",
    "\n",
    "#####      1- Le noyau linéaire peut être plus adapté à la structure linéaire des données. \n",
    "#####         Si les relations entre (x,y) sont principalement linéaires, le modèle linéaire pourrait \n",
    "#####         mieux capturer ces relations que le modèle polynomial qui peut avoir tendance à surajuster les données.\n",
    "\n",
    "#####      2- Le noyau polynomial peut être trop complexe pour les données. Les noyaux polynomiaux peuvent générer\n",
    "#####         des fonctions de décision très complexes qui peuvent être surajustées aux données d'entraînement,\n",
    "#####         ce qui peut conduire à une moins bonne généralisation sur de nouvelles données.\n",
    "\n",
    "#####      3- Les paramètres du modèle peuvent ne pas être bien ajustés. Les performances d'un modèle dépendent également\n",
    "#####         des paramètres de modèle choisis. Si les paramètres pour le modèle polynomial ne sont pas bien ajustés, \n",
    "#####         cela peut conduire à une performance inférieure."
   ]
  },
  {
   "cell_type": "markdown",
   "metadata": {},
   "source": [
    "PS: \n",
    "- Check out https://scikit-learn.org/stable/modules/cross_validation.html  for more details about Cross-Validation\n",
    "- and http://eric.univ-lyon2.fr/~ricco/cours/slides/svm.pdf for details about Support Vector Classifier/ Machine (SVC/SVM)"
   ]
  },
  {
   "cell_type": "markdown",
   "metadata": {},
   "source": [
    "## Activity"
   ]
  },
  {
   "cell_type": "markdown",
   "metadata": {},
   "source": [
    "The \"poly\" kernel for SVC actually has another attribute for the number of degrees of the polynomial used, which defaults to 3. For example, svm.SVC(kernel='poly', degree=3)\n",
    "\n",
    "We think the default third-degree polynomial is overfitting, based on the results above. But how about 2? Give that a try and compare it to the linear kernel."
   ]
  },
  {
   "cell_type": "code",
   "execution_count": 14,
   "metadata": {},
   "outputs": [
    {
     "data": {
      "text/plain": [
       "0.9"
      ]
     },
     "execution_count": 14,
     "metadata": {},
     "output_type": "execute_result"
    }
   ],
   "source": [
    "# Construire un modèle SVC(Support Vector Machine) avec un noyau polynomiale  de degré 2\n",
    "clf_p2 = svm.SVC(kernel='poly', degree=1).fit(X_train, y_train)\n",
    "\n",
    "# Now measure its performance with the test data\n",
    "clf_p2.score(X_test, y_test)\n",
    "\n",
    "# On peut deduire que avec un degré de 1, l'accuracy est très proche de 100%"
   ]
  }
 ],
 "metadata": {
  "kernelspec": {
   "display_name": "Python 3 (ipykernel)",
   "language": "python",
   "name": "python3"
  },
  "language_info": {
   "codemirror_mode": {
    "name": "ipython",
    "version": 3
   },
   "file_extension": ".py",
   "mimetype": "text/x-python",
   "name": "python",
   "nbconvert_exporter": "python",
   "pygments_lexer": "ipython3",
   "version": "3.10.12"
  }
 },
 "nbformat": 4,
 "nbformat_minor": 1
}
