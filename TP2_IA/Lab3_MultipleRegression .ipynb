{
 "cells": [
  {
   "cell_type": "markdown",
   "metadata": {},
   "source": [
    "# Multiple Regression"
   ]
  },
  {
   "cell_type": "markdown",
   "metadata": {},
   "source": [
    "Let's grab a small little data set of Blue Book car values:"
   ]
  },
  {
   "cell_type": "code",
   "execution_count": 13,
   "metadata": {},
   "outputs": [],
   "source": [
    "import pandas as pd\n",
    "\n",
    "#Create a data frame from data in excel file\n",
    "df = pd.read_excel('cars.xls')"
   ]
  },
  {
   "cell_type": "code",
   "execution_count": 14,
   "metadata": {},
   "outputs": [
    {
     "name": "stdout",
     "output_type": "stream",
     "text": [
      "                     Mileage         Price\n",
      "Mileage                                   \n",
      "(0, 10000]       5588.629630  24096.714451\n",
      "(10000, 20000]  15898.496183  21955.979607\n",
      "(20000, 30000]  24114.407104  20278.606252\n",
      "(30000, 40000]  33610.338710  19463.670267\n"
     ]
    },
    {
     "name": "stderr",
     "output_type": "stream",
     "text": [
      "/tmp/ipykernel_7570/2280230834.py:12: FutureWarning: The default of observed=False is deprecated and will be changed to True in a future version of pandas. Pass observed=False to retain current behavior or observed=True to adopt the future default and silence this warning.\n",
      "  groups = df1.groupby(pd.cut(df1['Mileage'],bins)).mean()\n"
     ]
    },
    {
     "data": {
      "text/plain": [
       "<Axes: xlabel='Mileage'>"
      ]
     },
     "execution_count": 14,
     "metadata": {},
     "output_type": "execute_result"
    },
    {
     "data": {
      "image/png": "[encoded data removed]",
      "text/plain": [
       "<Figure size 640x480 with 1 Axes>"
      ]
     },
     "metadata": {},
     "output_type": "display_data"
    }
   ],
   "source": [
    "\n",
    "%matplotlib inline\n",
    "import numpy as np\n",
    "\n",
    "#On crée une nouvelle data frame qui ne contient que le kilométrage et le prix\n",
    "df1=df[['Mileage','Price']]\n",
    "\n",
    "#bins est un tableau d'entiers de 0->50000 avec un pas de 10000\n",
    "bins =  np.arange(0,50000,10000)\n",
    "\n",
    "#Cette ligne regroupe par intervalle [0,10.000],[10.000,20.000],[20.000,30.000],[30.000,40.000] en fonction du kilométrage\n",
    "#Puis on calcule la moyenne des prix de chaque groupe\n",
    "groups = df1.groupby(pd.cut(df1['Mileage'],bins)).mean()\n",
    "\n",
    "#Cette ligne affiche les cinq premiers groupes et leurs moyennes de prix.\n",
    "print(groups.head())\n",
    "\n",
    "#Cette ligne trace un graphe en des \"lignes\" de la moyenne du prix par groupe en fonction du kilométrage.\n",
    "groups['Price'].plot.line()\n",
    "\n",
    "#Le graphe nous trace la relation entre le prix moyen d'une voiture et sa distance parcourue"
   ]
  },
  {
   "cell_type": "code",
   "execution_count": 15,
   "metadata": {},
   "outputs": [],
   "source": [
    "#L'équation mathématique entre les variables Mileage, Cylinder, Doors et Price peut être représentée par un modèle de \n",
    "#régression linéaire multiple :\n",
    "\n",
    "# Price = α + β*Mileage + γ*Cylinder + δ*Doors + ε\n",
    "\n",
    "#α = intercept,\n",
    "#β, γ et δ sont les coefficients de régression correspondant à chaque variable Mileage, Cylinder, Doors\n",
    "#ε est l'erreur ou le résidu\n",
    "\n",
    "#On exécute le code ci-dessous"
   ]
  },
  {
   "cell_type": "markdown",
   "metadata": {},
   "source": [
    "We can use pandas to split up this matrix into the feature vectors we're interested in, and the value we're trying to predict.\n",
    "\n",
    "Let's scale our feature data into the same range so we can easily compare the coefficients we end up with."
   ]
  },
  {
   "cell_type": "code",
   "execution_count": 16,
   "metadata": {
    "scrolled": true
   },
   "outputs": [
    {
     "name": "stdout",
     "output_type": "stream",
     "text": [
      "      Mileage  Cylinder     Doors\n",
      "0   -1.417485   0.52741  0.556279\n",
      "1   -1.305902   0.52741  0.556279\n",
      "2   -0.810128   0.52741  0.556279\n",
      "3   -0.426058   0.52741  0.556279\n",
      "4    0.000008   0.52741  0.556279\n",
      "..        ...       ...       ...\n",
      "799 -0.439853   0.52741  0.556279\n",
      "800 -0.089966   0.52741  0.556279\n",
      "801  0.079605   0.52741  0.556279\n",
      "802  0.750446   0.52741  0.556279\n",
      "803  1.932565   0.52741  0.556279\n",
      "\n",
      "[804 rows x 3 columns]\n"
     ]
    },
    {
     "name": "stderr",
     "output_type": "stream",
     "text": [
      "/tmp/ipykernel_7570/3717846865.py:13: SettingWithCopyWarning: \n",
      "A value is trying to be set on a copy of a slice from a DataFrame.\n",
      "Try using .loc[row_indexer,col_indexer] = value instead\n",
      "\n",
      "See the caveats in the documentation: https://pandas.pydata.org/pandas-docs/stable/user_guide/indexing.html#returning-a-view-versus-a-copy\n",
      "  X[['Mileage', 'Cylinder', 'Doors']] = scale.fit_transform(X[['Mileage', 'Cylinder', 'Doors']].values)\n"
     ]
    },
    {
     "data": {
      "text/html": [
       "<table class=\"simpletable\">\n",
       "<caption>OLS Regression Results</caption>\n",
       "<tr>\n",
       "  <th>Dep. Variable:</th>          <td>Price</td>      <th>  R-squared (uncentered):</th>      <td>   0.064</td> \n",
       "</tr>\n",
       "<tr>\n",
       "  <th>Model:</th>                   <td>OLS</td>       <th>  Adj. R-squared (uncentered):</th> <td>   0.060</td> \n",
       "</tr>\n",
       "<tr>\n",
       "  <th>Method:</th>             <td>Least Squares</td>  <th>  F-statistic:       </th>          <td>   18.11</td> \n",
       "</tr>\n",
       "<tr>\n",
       "  <th>Date:</th>             <td>Wed, 28 Feb 2024</td> <th>  Prob (F-statistic):</th>          <td>2.23e-11</td> \n",
       "</tr>\n",
       "<tr>\n",
       "  <th>Time:</th>                 <td>20:21:58</td>     <th>  Log-Likelihood:    </th>          <td> -9207.1</td> \n",
       "</tr>\n",
       "<tr>\n",
       "  <th>No. Observations:</th>      <td>   804</td>      <th>  AIC:               </th>          <td>1.842e+04</td>\n",
       "</tr>\n",
       "<tr>\n",
       "  <th>Df Residuals:</th>          <td>   801</td>      <th>  BIC:               </th>          <td>1.843e+04</td>\n",
       "</tr>\n",
       "<tr>\n",
       "  <th>Df Model:</th>              <td>     3</td>      <th>                     </th>              <td> </td>    \n",
       "</tr>\n",
       "<tr>\n",
       "  <th>Covariance Type:</th>      <td>nonrobust</td>    <th>                     </th>              <td> </td>    \n",
       "</tr>\n",
       "</table>\n",
       "<table class=\"simpletable\">\n",
       "<tr>\n",
       "      <td></td>        <th>coef</th>     <th>std err</th>      <th>t</th>      <th>P>|t|</th>  <th>[0.025</th>    <th>0.975]</th>  \n",
       "</tr>\n",
       "<tr>\n",
       "  <th>Mileage</th>  <td>-1272.3412</td> <td>  804.623</td> <td>   -1.581</td> <td> 0.114</td> <td>-2851.759</td> <td>  307.077</td>\n",
       "</tr>\n",
       "<tr>\n",
       "  <th>Cylinder</th> <td> 5587.4472</td> <td>  804.509</td> <td>    6.945</td> <td> 0.000</td> <td> 4008.252</td> <td> 7166.642</td>\n",
       "</tr>\n",
       "<tr>\n",
       "  <th>Doors</th>    <td>-1404.5513</td> <td>  804.275</td> <td>   -1.746</td> <td> 0.081</td> <td>-2983.288</td> <td>  174.185</td>\n",
       "</tr>\n",
       "</table>\n",
       "<table class=\"simpletable\">\n",
       "<tr>\n",
       "  <th>Omnibus:</th>       <td>157.913</td> <th>  Durbin-Watson:     </th> <td>   0.008</td>\n",
       "</tr>\n",
       "<tr>\n",
       "  <th>Prob(Omnibus):</th> <td> 0.000</td>  <th>  Jarque-Bera (JB):  </th> <td> 257.529</td>\n",
       "</tr>\n",
       "<tr>\n",
       "  <th>Skew:</th>          <td> 1.278</td>  <th>  Prob(JB):          </th> <td>1.20e-56</td>\n",
       "</tr>\n",
       "<tr>\n",
       "  <th>Kurtosis:</th>      <td> 4.074</td>  <th>  Cond. No.          </th> <td>    1.03</td>\n",
       "</tr>\n",
       "</table><br/><br/>Notes:<br/>[1] R² is computed without centering (uncentered) since the model does not contain a constant.<br/>[2] Standard Errors assume that the covariance matrix of the errors is correctly specified."
      ],
      "text/latex": [
       "\\begin{center}\n",
       "\\begin{tabular}{lclc}\n",
       "\\toprule\n",
       "\\textbf{Dep. Variable:}    &      Price       & \\textbf{  R-squared (uncentered):}      &     0.064   \\\\\n",
       "\\textbf{Model:}            &       OLS        & \\textbf{  Adj. R-squared (uncentered):} &     0.060   \\\\\n",
       "\\textbf{Method:}           &  Least Squares   & \\textbf{  F-statistic:       }          &     18.11   \\\\\n",
       "\\textbf{Date:}             & Wed, 28 Feb 2024 & \\textbf{  Prob (F-statistic):}          &  2.23e-11   \\\\\n",
       "\\textbf{Time:}             &     20:21:58     & \\textbf{  Log-Likelihood:    }          &   -9207.1   \\\\\n",
       "\\textbf{No. Observations:} &         804      & \\textbf{  AIC:               }          & 1.842e+04   \\\\\n",
       "\\textbf{Df Residuals:}     &         801      & \\textbf{  BIC:               }          & 1.843e+04   \\\\\n",
       "\\textbf{Df Model:}         &           3      & \\textbf{                     }          &             \\\\\n",
       "\\textbf{Covariance Type:}  &    nonrobust     & \\textbf{                     }          &             \\\\\n",
       "\\bottomrule\n",
       "\\end{tabular}\n",
       "\\begin{tabular}{lcccccc}\n",
       "                  & \\textbf{coef} & \\textbf{std err} & \\textbf{t} & \\textbf{P$> |$t$|$} & \\textbf{[0.025} & \\textbf{0.975]}  \\\\\n",
       "\\midrule\n",
       "\\textbf{Mileage}  &   -1272.3412  &      804.623     &    -1.581  &         0.114        &    -2851.759    &      307.077     \\\\\n",
       "\\textbf{Cylinder} &    5587.4472  &      804.509     &     6.945  &         0.000        &     4008.252    &     7166.642     \\\\\n",
       "\\textbf{Doors}    &   -1404.5513  &      804.275     &    -1.746  &         0.081        &    -2983.288    &      174.185     \\\\\n",
       "\\bottomrule\n",
       "\\end{tabular}\n",
       "\\begin{tabular}{lclc}\n",
       "\\textbf{Omnibus:}       & 157.913 & \\textbf{  Durbin-Watson:     } &    0.008  \\\\\n",
       "\\textbf{Prob(Omnibus):} &   0.000 & \\textbf{  Jarque-Bera (JB):  } &  257.529  \\\\\n",
       "\\textbf{Skew:}          &   1.278 & \\textbf{  Prob(JB):          } & 1.20e-56  \\\\\n",
       "\\textbf{Kurtosis:}      &   4.074 & \\textbf{  Cond. No.          } &     1.03  \\\\\n",
       "\\bottomrule\n",
       "\\end{tabular}\n",
       "%\\caption{OLS Regression Results}\n",
       "\\end{center}\n",
       "\n",
       "Notes: \\newline\n",
       " [1] R² is computed without centering (uncentered) since the model does not contain a constant. \\newline\n",
       " [2] Standard Errors assume that the covariance matrix of the errors is correctly specified."
      ],
      "text/plain": [
       "<class 'statsmodels.iolib.summary.Summary'>\n",
       "\"\"\"\n",
       "                                 OLS Regression Results                                \n",
       "=======================================================================================\n",
       "Dep. Variable:                  Price   R-squared (uncentered):                   0.064\n",
       "Model:                            OLS   Adj. R-squared (uncentered):              0.060\n",
       "Method:                 Least Squares   F-statistic:                              18.11\n",
       "Date:                Wed, 28 Feb 2024   Prob (F-statistic):                    2.23e-11\n",
       "Time:                        20:21:58   Log-Likelihood:                         -9207.1\n",
       "No. Observations:                 804   AIC:                                  1.842e+04\n",
       "Df Residuals:                     801   BIC:                                  1.843e+04\n",
       "Df Model:                           3                                                  \n",
       "Covariance Type:            nonrobust                                                  \n",
       "==============================================================================\n",
       "                 coef    std err          t      P>|t|      [0.025      0.975]\n",
       "------------------------------------------------------------------------------\n",
       "Mileage    -1272.3412    804.623     -1.581      0.114   -2851.759     307.077\n",
       "Cylinder    5587.4472    804.509      6.945      0.000    4008.252    7166.642\n",
       "Doors      -1404.5513    804.275     -1.746      0.081   -2983.288     174.185\n",
       "==============================================================================\n",
       "Omnibus:                      157.913   Durbin-Watson:                   0.008\n",
       "Prob(Omnibus):                  0.000   Jarque-Bera (JB):              257.529\n",
       "Skew:                           1.278   Prob(JB):                     1.20e-56\n",
       "Kurtosis:                       4.074   Cond. No.                         1.03\n",
       "==============================================================================\n",
       "\n",
       "Notes:\n",
       "[1] R² is computed without centering (uncentered) since the model does not contain a constant.\n",
       "[2] Standard Errors assume that the covariance matrix of the errors is correctly specified.\n",
       "\"\"\""
      ]
     },
     "execution_count": 16,
     "metadata": {},
     "output_type": "execute_result"
    }
   ],
   "source": [
    "import statsmodels.api as sm\n",
    "from sklearn.preprocessing import StandardScaler\n",
    "#Cette ligne crée une instance de la classe StandardScaler qui sera utilisée pour normaliser les données\n",
    "scale = StandardScaler()\n",
    "\n",
    "#Cette ligne crée une data frame X qui contient les variables ={kilométrage, nbre_cylindres, nbre_portes}\n",
    "X = df[['Mileage', 'Cylinder', 'Doors']]\n",
    "#Cette ligne crée une data frame y qui contient la variable  prix de chaque voiture\n",
    "y = df['Price']\n",
    "\n",
    "# standardisation\n",
    "#Cette ligne normalise les variables en utilisant la méthode fit_transform\n",
    "X[['Mileage', 'Cylinder', 'Doors']] = scale.fit_transform(X[['Mileage', 'Cylinder', 'Doors']].values)\n",
    "\n",
    "#On affiche par la suite la data frame normalisée \n",
    "print (X)\n",
    "\n",
    "#Ordinary Least Squares to create the model\n",
    "#Cette ligne crée un objet OLS qui utilise la méthode des moindres carrés ordinaires pour créer le modèle\n",
    "est = sm.OLS(y, X).fit()\n",
    "\n",
    "#Cette ligne affiche un résumé des résultats de l'estimation du modèle\n",
    "est.summary()"
   ]
  },
  {
   "cell_type": "markdown",
   "metadata": {},
   "source": [
    "Explain the code above and the obtained results (look for the significance of each measure)... ?\n",
    "What can you deduce when comparing the obtained coefficients ?"
   ]
  },
  {
   "cell_type": "markdown",
   "metadata": {},
   "source": [
    "Explication :\n",
    "D'après les résultats on obtien les coefficients suivant :\n",
    "\n",
    "β = -1272.3412\t\n",
    "γ = 5587.4472\n",
    "δ = -1404.5513\n",
    "\n",
    "Cela signifie que pour une unité de changement dans chacune de ces variables :\n",
    "le prix change de la quantité correspondante en dollars. \n",
    "Par exemple, pour chaque unité de changement dans le nombre de cylindres, le prix augmentera de 5587.4472 dollars.\n",
    "\n",
    "R_squared=0.064 => on remarque qu'elle est proche de 0\n",
    "Il s'agit d'un mauvais modèle\n",
    "\n",
    "Les p-values (P>|t|) associées aux variables Mileage(0.114) et Doors(0.081) sont supérieures à 0,05 ;\n",
    "ce qui signifie qu'il n'y a pas suffisamment de preuves statistiques pour affirmer que ces variables ont un impact \n",
    "significatif sur le prix.\n",
    "\n",
    "En revanche, la p-value associée à la variable Cylinder(0.000) est inférieure à 0,05, \n",
    "ce qui signifie qu'il y a suffisamment de preuves statistiques pour affirmer que cette variable a un impact \n",
    "significatif sur le prix. \n",
    "Conclusion la variable Cylinder a le plus d'impact sur le prix des voitures."
   ]
  },
  {
   "cell_type": "markdown",
   "metadata": {},
   "source": [
    "\n",
    "    \n",
    "Now, lets find out if the number of doors is important in predicting car prices:"
   ]
  },
  {
   "cell_type": "code",
   "execution_count": 17,
   "metadata": {},
   "outputs": [
    {
     "data": {
      "text/plain": [
       "Doors\n",
       "2    23807.135520\n",
       "4    20580.670749\n",
       "Name: Price, dtype: float64"
      ]
     },
     "execution_count": 17,
     "metadata": {},
     "output_type": "execute_result"
    }
   ],
   "source": [
    "y.groupby(df.Doors).mean()"
   ]
  },
  {
   "cell_type": "markdown",
   "metadata": {},
   "source": [
    "\n",
    "How would you use the learned model to make an actual prediction? Start by scaling your multiple feature variables into the same scale used to train the model, then just call est.predict() on the scaled features:"
   ]
  },
  {
   "cell_type": "code",
   "execution_count": 18,
   "metadata": {},
   "outputs": [
    {
     "name": "stdout",
     "output_type": "stream",
     "text": [
      "[[3.07256589 1.96971667 0.55627894]]\n",
      "[6315.01330583]\n"
     ]
    }
   ],
   "source": [
    "#Prediction for a car with 45000 Mileage, 8 cylinders and 4 doors\n",
    "scaled = scale.transform([[45000, 8, 4]])\n",
    "print(scaled)\n",
    "predicted = est.predict(scaled[0])\n",
    "print(predicted)\n",
    "y= -1272.3412"
   ]
  },
  {
   "cell_type": "markdown",
   "metadata": {},
   "source": [
    "## Activity"
   ]
  },
  {
   "cell_type": "markdown",
   "metadata": {},
   "source": [
    "- Create a copy of the input data on your disk, and see if you can create a measurable influence of number of doors on price. \n",
    "- Look if there are Outliers in the dataset, if yes, do some data cleaning.\n",
    "- Try adding 8 door cars into the set and see how it affects the results."
   ]
  },
  {
   "cell_type": "code",
   "execution_count": 19,
   "metadata": {},
   "outputs": [
    {
     "name": "stdout",
     "output_type": "stream",
     "text": [
      "Les voitures avec 4 portes sont plus chères.\n"
     ]
    },
    {
     "data": {
      "image/png": "[encoded data removed]",
      "text/plain": [
       "<Figure size 1000x500 with 2 Axes>"
      ]
     },
     "metadata": {},
     "output_type": "display_data"
    }
   ],
   "source": [
    "import matplotlib.pyplot as plt\n",
    "import numpy as np\n",
    "\n",
    "#On utilise la méthode to_csv de la bibliothèque pandas, on aura un fichier car_data.csv dans le répertoire courant\n",
    "df.to_csv('car_data.csv')\n",
    "\n",
    "#On sépare les prix des cars pour doors={2, 4}\n",
    "price_2door = df[df['Doors'] == 2]['Price']\n",
    "price_4door = df[df['Doors'] == 4]['Price']\n",
    "\n",
    "#On calcule la médiane du prix pour chaque groupe\n",
    "median_2door = price_2door.median()\n",
    "median_4door = price_4door.median()\n",
    "\n",
    "#Comparer les médiane du prix\n",
    "if median_2door > median_4door:\n",
    "    print(\"Les voitures avec 2 portes sont plus chères.\")\n",
    "elif median_2door < median_4door:\n",
    "    print(\"Les voitures avec 4 portes sont plus chères.\")\n",
    "else:\n",
    "    print(\"Les voitures avec 2 et 4 portes ont la même médiane du prix\")\n",
    " \n",
    "#Pour vérifier les outliers :\n",
    "fig, axs = plt.subplots(1, 2, figsize=(10, 5))\n",
    "\n",
    "axs[0].hist(price_2door, 50)\n",
    "axs[0].set_title('Price distribution for 2-door cars')\n",
    "axs[1].hist(price_4door, 50)\n",
    "axs[1].set_title('Price distribution for 4-door cars')\n",
    "\n",
    "plt.show()\n",
    "\n",
    "#On remarque qu'il y'a des outliers => on utilise la fonction reject_outliers qu'on a utilisé dans le lab6 du TP1"
   ]
  },
  {
   "cell_type": "code",
   "execution_count": 20,
   "metadata": {},
   "outputs": [
    {
     "data": {
      "image/png": "[encoded data removed]",
      "text/plain": [
       "<Figure size 1000x500 with 2 Axes>"
      ]
     },
     "metadata": {},
     "output_type": "display_data"
    }
   ],
   "source": [
    "def reject_outliers(data):\n",
    "    u = np.median(data)\n",
    "    s = np.std(data)\n",
    "    filtered = [e for e in data if (u - 2 * s < e < u + 2 * s)]\n",
    "    return filtered\n",
    "\n",
    "filtered_price_2door = reject_outliers(price_2door)\n",
    "filtered_price_4door = reject_outliers(price_4door)\n",
    "\n",
    "fig, axs = plt.subplots(1, 2, figsize=(10, 5))\n",
    "\n",
    "axs[0].hist(filtered_price_2door, 50)\n",
    "axs[0].set_title('Price distribution for 2-door cars without outliers')\n",
    "axs[1].hist(filtered_price_4door, 50)\n",
    "axs[1].set_title('Price distribution for 4-door cars without outliers')\n",
    "\n",
    "plt.show()"
   ]
  },
  {
   "cell_type": "code",
   "execution_count": 21,
   "metadata": {},
   "outputs": [],
   "source": [
    "#Créer une nouvelle data frame contenant 3 voitures avec 8 portes\n",
    "new_cars = pd.DataFrame({\n",
    "    'Mileage': [50000, 60000, 70000],\n",
    "    'Cylinder': [6, 8, 10],\n",
    "    'Doors': [8, 8, 8],\n",
    "    'Price': [30000, 40000, 50000]\n",
    "})\n",
    "\n",
    "#Concaténer la nouvelle DF avec celle déja existante\n",
    "df = pd.concat([df, new_cars])"
   ]
  },
  {
   "cell_type": "code",
   "execution_count": 22,
   "metadata": {},
   "outputs": [
    {
     "name": "stdout",
     "output_type": "stream",
     "text": [
      "Les voitures avec 8 portes sont plus chères.\n"
     ]
    }
   ],
   "source": [
    "#On sépare les prix des cars pour doors={2, 4, 8}\n",
    "price_2door = df[df['Doors'] == 2]['Price']\n",
    "price_4door = df[df['Doors'] == 4]['Price']\n",
    "price_8door = df[df['Doors'] == 8]['Price']\n",
    "\n",
    "#On calcule la médiane du prix pour chaque groupe\n",
    "median_2door = price_2door.median()\n",
    "median_4door = price_4door.median()\n",
    "median_8door = price_8door.median()\n",
    "\n",
    "# Comparer les médianes de prix\n",
    "if median_2door > median_4door and median_2door > median_8door:\n",
    "    print(\"Les voitures avec 2 portes sont plus chères.\")\n",
    "elif median_4door > median_2door and median_4door > median_8door:\n",
    "    print(\"Les voitures avec 4 portes sont plus chères.\")\n",
    "elif median_8door > median_2door and median_8door > median_4door:\n",
    "    print(\"Les voitures avec 8 portes sont plus chères.\")\n",
    "else:\n",
    "    print(\"Les voitures ont la même médiane de prix.\")"
   ]
  },
  {
   "cell_type": "markdown",
   "metadata": {},
   "source": [
    "##### #Conclusion : Il y'a toujours différence significative entre le prix des voitures à 2 portes et celles à 4 portes même avec l'ajout des voitures à 8 portes"
   ]
  }
 ],
 "metadata": {
  "kernelspec": {
   "display_name": "Python 3",
   "language": "python",
   "name": "python3"
  },
  "language_info": {
   "codemirror_mode": {
    "name": "ipython",
    "version": 3
   },
   "file_extension": ".py",
   "mimetype": "text/x-python",
   "name": "python",
   "nbconvert_exporter": "python",
   "pygments_lexer": "ipython3",
   "version": "3.10.12"
  }
 },
 "nbformat": 4,
 "nbformat_minor": 1
}
